{
 "cells": [
  {
   "cell_type": "markdown",
   "metadata": {},
   "source": [
    "# Third Delivery\n",
    "### We will see more metrics of the following models\n",
    "- KNeighborsClassifier\n",
    "- DecisionTreeClassifier\n",
    "- GaussianNB\n",
    "- SVC\n",
    "- MLPClassifier\n",
    "\n",
    "In order to tackel the Overfitting problem \n",
    "###### Which classifier would you use to estimate the location?\n"
   ]
  },
  {
   "cell_type": "code",
   "execution_count": 1,
   "metadata": {},
   "outputs": [],
   "source": [
    "import matplotlib.pyplot as plt\n",
    "import pandas as pd\n",
    "import numpy as np\n",
    "import time\n",
    "from sklearn.model_selection import train_test_split\n",
    "from sklearn.metrics import classification_report, confusion_matrix, accuracy_score\n",
    "from sklearn.model_selection import cross_val_score\n",
    "from sklearn.metrics import roc_curve, auc, roc_auc_score"
   ]
  },
  {
   "cell_type": "code",
   "execution_count": 2,
   "metadata": {},
   "outputs": [
    {
     "data": {
      "text/html": [
       "<div>\n",
       "<style scoped>\n",
       "    .dataframe tbody tr th:only-of-type {\n",
       "        vertical-align: middle;\n",
       "    }\n",
       "\n",
       "    .dataframe tbody tr th {\n",
       "        vertical-align: top;\n",
       "    }\n",
       "\n",
       "    .dataframe thead th {\n",
       "        text-align: right;\n",
       "    }\n",
       "</style>\n",
       "<table border=\"1\" class=\"dataframe\">\n",
       "  <thead>\n",
       "    <tr style=\"text-align: right;\">\n",
       "      <th></th>\n",
       "      <th>WAP001</th>\n",
       "      <th>WAP002</th>\n",
       "      <th>WAP003</th>\n",
       "      <th>WAP004</th>\n",
       "      <th>WAP005</th>\n",
       "      <th>WAP006</th>\n",
       "      <th>WAP007</th>\n",
       "      <th>WAP008</th>\n",
       "      <th>WAP009</th>\n",
       "      <th>WAP010</th>\n",
       "      <th>...</th>\n",
       "      <th>WAP512</th>\n",
       "      <th>WAP513</th>\n",
       "      <th>WAP514</th>\n",
       "      <th>WAP515</th>\n",
       "      <th>WAP516</th>\n",
       "      <th>WAP517</th>\n",
       "      <th>WAP518</th>\n",
       "      <th>WAP519</th>\n",
       "      <th>WAP520</th>\n",
       "      <th>ID</th>\n",
       "    </tr>\n",
       "  </thead>\n",
       "  <tbody>\n",
       "    <tr>\n",
       "      <th>0</th>\n",
       "      <td>0</td>\n",
       "      <td>0</td>\n",
       "      <td>0</td>\n",
       "      <td>0</td>\n",
       "      <td>0</td>\n",
       "      <td>0</td>\n",
       "      <td>0</td>\n",
       "      <td>0</td>\n",
       "      <td>0</td>\n",
       "      <td>0</td>\n",
       "      <td>...</td>\n",
       "      <td>0</td>\n",
       "      <td>0</td>\n",
       "      <td>0</td>\n",
       "      <td>0</td>\n",
       "      <td>0</td>\n",
       "      <td>0</td>\n",
       "      <td>0</td>\n",
       "      <td>0</td>\n",
       "      <td>0</td>\n",
       "      <td>122</td>\n",
       "    </tr>\n",
       "    <tr>\n",
       "      <th>1</th>\n",
       "      <td>0</td>\n",
       "      <td>0</td>\n",
       "      <td>0</td>\n",
       "      <td>0</td>\n",
       "      <td>0</td>\n",
       "      <td>0</td>\n",
       "      <td>0</td>\n",
       "      <td>0</td>\n",
       "      <td>0</td>\n",
       "      <td>0</td>\n",
       "      <td>...</td>\n",
       "      <td>0</td>\n",
       "      <td>0</td>\n",
       "      <td>0</td>\n",
       "      <td>0</td>\n",
       "      <td>0</td>\n",
       "      <td>0</td>\n",
       "      <td>0</td>\n",
       "      <td>0</td>\n",
       "      <td>0</td>\n",
       "      <td>102</td>\n",
       "    </tr>\n",
       "    <tr>\n",
       "      <th>2</th>\n",
       "      <td>0</td>\n",
       "      <td>0</td>\n",
       "      <td>0</td>\n",
       "      <td>0</td>\n",
       "      <td>0</td>\n",
       "      <td>0</td>\n",
       "      <td>0</td>\n",
       "      <td>0</td>\n",
       "      <td>0</td>\n",
       "      <td>0</td>\n",
       "      <td>...</td>\n",
       "      <td>0</td>\n",
       "      <td>0</td>\n",
       "      <td>0</td>\n",
       "      <td>0</td>\n",
       "      <td>0</td>\n",
       "      <td>0</td>\n",
       "      <td>0</td>\n",
       "      <td>0</td>\n",
       "      <td>0</td>\n",
       "      <td>110</td>\n",
       "    </tr>\n",
       "    <tr>\n",
       "      <th>3</th>\n",
       "      <td>0</td>\n",
       "      <td>0</td>\n",
       "      <td>0</td>\n",
       "      <td>0</td>\n",
       "      <td>0</td>\n",
       "      <td>0</td>\n",
       "      <td>0</td>\n",
       "      <td>0</td>\n",
       "      <td>0</td>\n",
       "      <td>0</td>\n",
       "      <td>...</td>\n",
       "      <td>0</td>\n",
       "      <td>0</td>\n",
       "      <td>0</td>\n",
       "      <td>0</td>\n",
       "      <td>0</td>\n",
       "      <td>0</td>\n",
       "      <td>0</td>\n",
       "      <td>0</td>\n",
       "      <td>0</td>\n",
       "      <td>111</td>\n",
       "    </tr>\n",
       "    <tr>\n",
       "      <th>4</th>\n",
       "      <td>0</td>\n",
       "      <td>0</td>\n",
       "      <td>0</td>\n",
       "      <td>0</td>\n",
       "      <td>0</td>\n",
       "      <td>0</td>\n",
       "      <td>0</td>\n",
       "      <td>0</td>\n",
       "      <td>0</td>\n",
       "      <td>0</td>\n",
       "      <td>...</td>\n",
       "      <td>0</td>\n",
       "      <td>0</td>\n",
       "      <td>0</td>\n",
       "      <td>0</td>\n",
       "      <td>0</td>\n",
       "      <td>0</td>\n",
       "      <td>0</td>\n",
       "      <td>0</td>\n",
       "      <td>0</td>\n",
       "      <td>107</td>\n",
       "    </tr>\n",
       "  </tbody>\n",
       "</table>\n",
       "<p>5 rows × 521 columns</p>\n",
       "</div>"
      ],
      "text/plain": [
       "   WAP001  WAP002  WAP003  WAP004  WAP005  WAP006  WAP007  WAP008  WAP009  \\\n",
       "0       0       0       0       0       0       0       0       0       0   \n",
       "1       0       0       0       0       0       0       0       0       0   \n",
       "2       0       0       0       0       0       0       0       0       0   \n",
       "3       0       0       0       0       0       0       0       0       0   \n",
       "4       0       0       0       0       0       0       0       0       0   \n",
       "\n",
       "   WAP010  ...  WAP512  WAP513  WAP514  WAP515  WAP516  WAP517  WAP518  \\\n",
       "0       0  ...       0       0       0       0       0       0       0   \n",
       "1       0  ...       0       0       0       0       0       0       0   \n",
       "2       0  ...       0       0       0       0       0       0       0   \n",
       "3       0  ...       0       0       0       0       0       0       0   \n",
       "4       0  ...       0       0       0       0       0       0       0   \n",
       "\n",
       "   WAP519  WAP520   ID  \n",
       "0       0       0  122  \n",
       "1       0       0  102  \n",
       "2       0       0  110  \n",
       "3       0       0  111  \n",
       "4       0       0  107  \n",
       "\n",
       "[5 rows x 521 columns]"
      ]
     },
     "execution_count": 2,
     "metadata": {},
     "output_type": "execute_result"
    }
   ],
   "source": [
    "data = pd.read_csv(\"../datasets/UJIIndoorLoc/UJIIndoorLoc_B0-ID-01.csv\")\n",
    "data.head(5)"
   ]
  },
  {
   "cell_type": "code",
   "execution_count": 3,
   "metadata": {
    "scrolled": true
   },
   "outputs": [
    {
     "name": "stdout",
     "output_type": "stream",
     "text": [
      "<class 'pandas.core.frame.DataFrame'>\n",
      "RangeIndex: 5249 entries, 0 to 5248\n",
      "Columns: 521 entries, WAP001 to ID\n",
      "dtypes: int64(521)\n",
      "memory usage: 20.9 MB\n"
     ]
    }
   ],
   "source": [
    "data.info()"
   ]
  },
  {
   "cell_type": "markdown",
   "metadata": {},
   "source": [
    "###### First we need to split the data into train and test arrays for each axis\n",
    "Be aware that the preprocessing has been done previously in FirstDelivery.\n",
    "- X variable will contain the data\n",
    "- Y variable will contain the ID's labels"
   ]
  },
  {
   "cell_type": "code",
   "execution_count": 4,
   "metadata": {},
   "outputs": [
    {
     "data": {
      "text/plain": [
       "0        122\n",
       "1        102\n",
       "2        110\n",
       "3        111\n",
       "4        107\n",
       "        ... \n",
       "5244    3228\n",
       "5245    3236\n",
       "5246    3235\n",
       "5247    3230\n",
       "5248    3229\n",
       "Name: ID, Length: 5249, dtype: int64"
      ]
     },
     "execution_count": 4,
     "metadata": {},
     "output_type": "execute_result"
    }
   ],
   "source": [
    "X = data.iloc[:, :-1]\n",
    "y = data.iloc[:, -1]\n",
    "y\n",
    "#or\n",
    "# X = data.drop('ID', axis=1)\n",
    "# y = data['ID']"
   ]
  },
  {
   "cell_type": "markdown",
   "metadata": {},
   "source": [
    "In train_test_split we set a random_state to 0 in order to demonstrate and guarantee the same outputs (what should be removed in production) and we stratify the Y so we will have the same proportion of splitted as the original percentage."
   ]
  },
  {
   "cell_type": "code",
   "execution_count": 5,
   "metadata": {},
   "outputs": [],
   "source": [
    "X_train, X_test, y_train, y_test = train_test_split(X, y, test_size=0.1, random_state=1, stratify=y)"
   ]
  },
  {
   "cell_type": "code",
   "execution_count": 6,
   "metadata": {},
   "outputs": [],
   "source": [
    "accuracies = []\n",
    "fit_times = []\n",
    "pred_times = []\n",
    "cv_scores = []\n",
    "ROC_scores = []"
   ]
  },
  {
   "cell_type": "markdown",
   "metadata": {},
   "source": [
    "____________"
   ]
  },
  {
   "cell_type": "markdown",
   "metadata": {},
   "source": [
    "### K-Nearest Neighbors Algorithm"
   ]
  },
  {
   "cell_type": "code",
   "execution_count": 7,
   "metadata": {},
   "outputs": [],
   "source": [
    "from sklearn.neighbors import KNeighborsClassifier\n",
    "from sklearn.preprocessing import StandardScaler\n",
    "from sklearn.metrics import classification_report, confusion_matrix"
   ]
  },
  {
   "cell_type": "markdown",
   "metadata": {},
   "source": [
    "Knowing the how the algorithm performs, the range of all features should be normalized so that each feature contributes approximately proportionately to the final distance.\n",
    "Check: https://en.wikipedia.org/wiki/Feature_scaling"
   ]
  },
  {
   "cell_type": "code",
   "execution_count": 8,
   "metadata": {},
   "outputs": [
    {
     "data": {
      "text/plain": [
       "StandardScaler(copy=True, with_mean=True, with_std=True)"
      ]
     },
     "execution_count": 8,
     "metadata": {},
     "output_type": "execute_result"
    }
   ],
   "source": [
    "scaler = StandardScaler()\n",
    "scaler.fit(X_train)\n",
    "scaler"
   ]
  },
  {
   "cell_type": "code",
   "execution_count": 9,
   "metadata": {},
   "outputs": [
    {
     "data": {
      "text/html": [
       "<div>\n",
       "<style scoped>\n",
       "    .dataframe tbody tr th:only-of-type {\n",
       "        vertical-align: middle;\n",
       "    }\n",
       "\n",
       "    .dataframe tbody tr th {\n",
       "        vertical-align: top;\n",
       "    }\n",
       "\n",
       "    .dataframe thead th {\n",
       "        text-align: right;\n",
       "    }\n",
       "</style>\n",
       "<table border=\"1\" class=\"dataframe\">\n",
       "  <thead>\n",
       "    <tr style=\"text-align: right;\">\n",
       "      <th></th>\n",
       "      <th>WAP001</th>\n",
       "      <th>WAP002</th>\n",
       "      <th>WAP003</th>\n",
       "      <th>WAP004</th>\n",
       "      <th>WAP005</th>\n",
       "      <th>WAP006</th>\n",
       "      <th>WAP007</th>\n",
       "      <th>WAP008</th>\n",
       "      <th>WAP009</th>\n",
       "      <th>WAP010</th>\n",
       "      <th>...</th>\n",
       "      <th>WAP511</th>\n",
       "      <th>WAP512</th>\n",
       "      <th>WAP513</th>\n",
       "      <th>WAP514</th>\n",
       "      <th>WAP515</th>\n",
       "      <th>WAP516</th>\n",
       "      <th>WAP517</th>\n",
       "      <th>WAP518</th>\n",
       "      <th>WAP519</th>\n",
       "      <th>WAP520</th>\n",
       "    </tr>\n",
       "  </thead>\n",
       "  <tbody>\n",
       "    <tr>\n",
       "      <th>1737</th>\n",
       "      <td>0</td>\n",
       "      <td>0</td>\n",
       "      <td>0</td>\n",
       "      <td>0</td>\n",
       "      <td>0</td>\n",
       "      <td>0</td>\n",
       "      <td>0</td>\n",
       "      <td>0</td>\n",
       "      <td>0</td>\n",
       "      <td>0</td>\n",
       "      <td>...</td>\n",
       "      <td>0</td>\n",
       "      <td>0</td>\n",
       "      <td>0</td>\n",
       "      <td>0</td>\n",
       "      <td>0</td>\n",
       "      <td>0</td>\n",
       "      <td>0</td>\n",
       "      <td>0</td>\n",
       "      <td>0</td>\n",
       "      <td>0</td>\n",
       "    </tr>\n",
       "    <tr>\n",
       "      <th>1874</th>\n",
       "      <td>0</td>\n",
       "      <td>0</td>\n",
       "      <td>0</td>\n",
       "      <td>0</td>\n",
       "      <td>0</td>\n",
       "      <td>0</td>\n",
       "      <td>0</td>\n",
       "      <td>0</td>\n",
       "      <td>0</td>\n",
       "      <td>0</td>\n",
       "      <td>...</td>\n",
       "      <td>0</td>\n",
       "      <td>0</td>\n",
       "      <td>0</td>\n",
       "      <td>0</td>\n",
       "      <td>0</td>\n",
       "      <td>0</td>\n",
       "      <td>0</td>\n",
       "      <td>0</td>\n",
       "      <td>0</td>\n",
       "      <td>0</td>\n",
       "    </tr>\n",
       "    <tr>\n",
       "      <th>1472</th>\n",
       "      <td>0</td>\n",
       "      <td>0</td>\n",
       "      <td>0</td>\n",
       "      <td>0</td>\n",
       "      <td>0</td>\n",
       "      <td>0</td>\n",
       "      <td>0</td>\n",
       "      <td>0</td>\n",
       "      <td>1</td>\n",
       "      <td>0</td>\n",
       "      <td>...</td>\n",
       "      <td>0</td>\n",
       "      <td>0</td>\n",
       "      <td>0</td>\n",
       "      <td>0</td>\n",
       "      <td>0</td>\n",
       "      <td>0</td>\n",
       "      <td>0</td>\n",
       "      <td>0</td>\n",
       "      <td>0</td>\n",
       "      <td>0</td>\n",
       "    </tr>\n",
       "    <tr>\n",
       "      <th>3395</th>\n",
       "      <td>0</td>\n",
       "      <td>0</td>\n",
       "      <td>0</td>\n",
       "      <td>0</td>\n",
       "      <td>0</td>\n",
       "      <td>0</td>\n",
       "      <td>0</td>\n",
       "      <td>0</td>\n",
       "      <td>0</td>\n",
       "      <td>0</td>\n",
       "      <td>...</td>\n",
       "      <td>0</td>\n",
       "      <td>0</td>\n",
       "      <td>0</td>\n",
       "      <td>0</td>\n",
       "      <td>0</td>\n",
       "      <td>0</td>\n",
       "      <td>0</td>\n",
       "      <td>0</td>\n",
       "      <td>0</td>\n",
       "      <td>0</td>\n",
       "    </tr>\n",
       "    <tr>\n",
       "      <th>2482</th>\n",
       "      <td>0</td>\n",
       "      <td>0</td>\n",
       "      <td>0</td>\n",
       "      <td>0</td>\n",
       "      <td>0</td>\n",
       "      <td>0</td>\n",
       "      <td>0</td>\n",
       "      <td>0</td>\n",
       "      <td>0</td>\n",
       "      <td>0</td>\n",
       "      <td>...</td>\n",
       "      <td>0</td>\n",
       "      <td>0</td>\n",
       "      <td>0</td>\n",
       "      <td>0</td>\n",
       "      <td>0</td>\n",
       "      <td>0</td>\n",
       "      <td>0</td>\n",
       "      <td>0</td>\n",
       "      <td>0</td>\n",
       "      <td>0</td>\n",
       "    </tr>\n",
       "  </tbody>\n",
       "</table>\n",
       "<p>5 rows × 520 columns</p>\n",
       "</div>"
      ],
      "text/plain": [
       "      WAP001  WAP002  WAP003  WAP004  WAP005  WAP006  WAP007  WAP008  WAP009  \\\n",
       "1737       0       0       0       0       0       0       0       0       0   \n",
       "1874       0       0       0       0       0       0       0       0       0   \n",
       "1472       0       0       0       0       0       0       0       0       1   \n",
       "3395       0       0       0       0       0       0       0       0       0   \n",
       "2482       0       0       0       0       0       0       0       0       0   \n",
       "\n",
       "      WAP010  ...  WAP511  WAP512  WAP513  WAP514  WAP515  WAP516  WAP517  \\\n",
       "1737       0  ...       0       0       0       0       0       0       0   \n",
       "1874       0  ...       0       0       0       0       0       0       0   \n",
       "1472       0  ...       0       0       0       0       0       0       0   \n",
       "3395       0  ...       0       0       0       0       0       0       0   \n",
       "2482       0  ...       0       0       0       0       0       0       0   \n",
       "\n",
       "      WAP518  WAP519  WAP520  \n",
       "1737       0       0       0  \n",
       "1874       0       0       0  \n",
       "1472       0       0       0  \n",
       "3395       0       0       0  \n",
       "2482       0       0       0  \n",
       "\n",
       "[5 rows x 520 columns]"
      ]
     },
     "execution_count": 9,
     "metadata": {},
     "output_type": "execute_result"
    }
   ],
   "source": [
    "X_train.head()"
   ]
  },
  {
   "cell_type": "code",
   "execution_count": 10,
   "metadata": {
    "scrolled": true
   },
   "outputs": [
    {
     "data": {
      "text/plain": [
       "array([[-0.06009694, -0.06184581,  0.        , ...,  0.        ,\n",
       "        -0.0252083 ,  0.        ],\n",
       "       [-0.06009694, -0.06184581,  0.        , ...,  0.        ,\n",
       "        -0.0252083 ,  0.        ],\n",
       "       [-0.06009694, -0.06184581,  0.        , ...,  0.        ,\n",
       "        -0.0252083 ,  0.        ],\n",
       "       ...,\n",
       "       [-0.06009694, -0.06184581,  0.        , ...,  0.        ,\n",
       "        -0.0252083 ,  0.        ],\n",
       "       [-0.06009694, -0.06184581,  0.        , ...,  0.        ,\n",
       "        -0.0252083 ,  0.        ],\n",
       "       [-0.06009694, -0.06184581,  0.        , ...,  0.        ,\n",
       "        -0.0252083 ,  0.        ]])"
      ]
     },
     "execution_count": 10,
     "metadata": {},
     "output_type": "execute_result"
    }
   ],
   "source": [
    "X_train_scaled = scaler.transform(X_train)\n",
    "X_test_scaled = scaler.transform(X_test)\n",
    "X_train_scaled"
   ]
  },
  {
   "cell_type": "code",
   "execution_count": 11,
   "metadata": {},
   "outputs": [],
   "source": [
    "error = []\n",
    "for i in range(1, 20):\n",
    "    knn = KNeighborsClassifier(n_neighbors=i)\n",
    "    knn.fit(X_train_scaled, y_train)\n",
    "    pred_i = knn.predict(X_test_scaled)\n",
    "    error.append(np.mean(pred_i != y_test))"
   ]
  },
  {
   "cell_type": "code",
   "execution_count": 12,
   "metadata": {},
   "outputs": [
    {
     "data": {
      "text/plain": [
       "Text(0, 0.5, 'Mean Error')"
      ]
     },
     "execution_count": 12,
     "metadata": {},
     "output_type": "execute_result"
    },
    {
     "data": {
      "image/png": "[encoded data removed]",
      "text/plain": [
       "<Figure size 864x432 with 1 Axes>"
      ]
     },
     "metadata": {
      "needs_background": "light"
     },
     "output_type": "display_data"
    }
   ],
   "source": [
    "plt.figure(figsize=(12, 6))\n",
    "plt.plot(range(1, 20), error, color='red', linestyle='dashed', marker='o',\n",
    "         markerfacecolor='blue', markersize=10)\n",
    "plt.title('Error Rate K Value')\n",
    "plt.xlabel('K Value')\n",
    "plt.ylabel('Mean Error')"
   ]
  },
  {
   "cell_type": "markdown",
   "metadata": {},
   "source": [
    "As we can see the best K value to minimize the mean error is, in this case 4."
   ]
  },
  {
   "cell_type": "code",
   "execution_count": 13,
   "metadata": {},
   "outputs": [
    {
     "data": {
      "text/plain": [
       "KNeighborsClassifier(algorithm='auto', leaf_size=30, metric='minkowski',\n",
       "                     metric_params=None, n_jobs=None, n_neighbors=4, p=2,\n",
       "                     weights='uniform')"
      ]
     },
     "execution_count": 13,
     "metadata": {},
     "output_type": "execute_result"
    }
   ],
   "source": [
    "t1 = time.time()\n",
    "knn = KNeighborsClassifier(n_neighbors=4)\n",
    "knn.fit(X_train_scaled, y_train)"
   ]
  },
  {
   "cell_type": "code",
   "execution_count": 14,
   "metadata": {},
   "outputs": [
    {
     "name": "stdout",
     "output_type": "stream",
     "text": [
      "Train time: 0.143\n"
     ]
    }
   ],
   "source": [
    "t2 = time.time()\n",
    "knn_fit_time = round(t2 - t1, 3)\n",
    "fit_times.append(knn_fit_time)\n",
    "print(\"Train time:\", knn_fit_time)"
   ]
  },
  {
   "cell_type": "code",
   "execution_count": 15,
   "metadata": {},
   "outputs": [
    {
     "name": "stdout",
     "output_type": "stream",
     "text": [
      "Prediction Time: 1.306\n"
     ]
    }
   ],
   "source": [
    "t3 = time.time()\n",
    "y_pred = knn.predict(X_test_scaled)\n",
    "t4 = time.time()\n",
    "knn_pred_time = round(t4 - t3, 3)\n",
    "pred_times.append(knn_pred_time)\n",
    "print(\"Prediction Time:\", knn_pred_time)"
   ]
  },
  {
   "cell_type": "code",
   "execution_count": 16,
   "metadata": {},
   "outputs": [
    {
     "name": "stdout",
     "output_type": "stream",
     "text": [
      "56.381 %\n"
     ]
    }
   ],
   "source": [
    "knn_accuracy = round(100 * accuracy_score(y_test, y_pred), 4)\n",
    "accuracies.append(knn_accuracy)\n",
    "print(knn_accuracy, \"%\")"
   ]
  },
  {
   "cell_type": "code",
   "execution_count": 17,
   "metadata": {},
   "outputs": [],
   "source": [
    "y_pred_prob = knn.predict_proba(X_test)\n",
    "ROC_scores.append(roc_auc_score(y_test, y_pred_prob, multi_class='ovr'))"
   ]
  },
  {
   "cell_type": "code",
   "execution_count": 18,
   "metadata": {},
   "outputs": [],
   "source": [
    "# print(classification_report(y_test, y_pred))"
   ]
  },
  {
   "cell_type": "markdown",
   "metadata": {},
   "source": [
    "___\n",
    "___"
   ]
  },
  {
   "cell_type": "markdown",
   "metadata": {},
   "source": [
    "### Naive Bayes Algorithm"
   ]
  },
  {
   "cell_type": "code",
   "execution_count": 19,
   "metadata": {},
   "outputs": [],
   "source": [
    "from sklearn.naive_bayes import GaussianNB\n",
    "from sklearn.naive_bayes import BernoulliNB\n",
    "from sklearn.naive_bayes import MultinomialNB"
   ]
  },
  {
   "cell_type": "code",
   "execution_count": 20,
   "metadata": {},
   "outputs": [
    {
     "name": "stdout",
     "output_type": "stream",
     "text": [
      "Train time: 0.046\n",
      "Prediction Time: 0.175\n",
      "44.0 %\n"
     ]
    }
   ],
   "source": [
    "t1 = time.time()\n",
    "Gnb = GaussianNB()\n",
    "Gnb.fit(X_train, y_train)\n",
    "t2 = time.time()\n",
    "gnb_fit_time = round(t2 - t1, 3)\n",
    "fit_times.append(gnb_fit_time)\n",
    "print(\"Train time:\", gnb_fit_time)\n",
    "t3 = time.time()\n",
    "y_pred = Gnb.predict(X_test)\n",
    "t4 = time.time()\n",
    "gnb_pred_time = round(t4 - t2, 3)\n",
    "pred_times.append(gnb_pred_time)\n",
    "print(\"Prediction Time:\", gnb_pred_time)\n",
    "gnb_accuracy = round(100 * accuracy_score(y_test, y_pred), 4)\n",
    "accuracies.append(gnb_accuracy)\n",
    "print(gnb_accuracy, \"%\")"
   ]
  },
  {
   "cell_type": "code",
   "execution_count": 21,
   "metadata": {},
   "outputs": [],
   "source": [
    "# print(classification_report(y_test, y_pred))"
   ]
  },
  {
   "cell_type": "code",
   "execution_count": 22,
   "metadata": {},
   "outputs": [
    {
     "name": "stdout",
     "output_type": "stream",
     "text": [
      "Train time: 1.159\n",
      "Prediction Time: 0.008\n",
      "42.0952 %\n"
     ]
    }
   ],
   "source": [
    "t1 = time.time()\n",
    "Bnb = BernoulliNB()\n",
    "Bnb.fit(X_train, y_train)\n",
    "t2 = time.time()\n",
    "bnb_fit_time = round(t2 - t1, 3)\n",
    "fit_times.append(bnb_fit_time)\n",
    "print(\"Train time:\", bnb_fit_time)\n",
    "t3 = time.time()\n",
    "y_pred = Bnb.predict(X_test)\n",
    "t4 = time.time()\n",
    "bnb_pred_time = round(t4 - t3, 3)\n",
    "pred_times.append(bnb_pred_time)\n",
    "print(\"Prediction Time:\", bnb_pred_time)\n",
    "bnb_accuracy = round(100 * accuracy_score(y_test, y_pred), 4)\n",
    "accuracies.append(bnb_accuracy)\n",
    "print(bnb_accuracy, \"%\")"
   ]
  },
  {
   "cell_type": "code",
   "execution_count": 23,
   "metadata": {},
   "outputs": [],
   "source": [
    "# print(classification_report(y_test, y_pred))"
   ]
  },
  {
   "cell_type": "code",
   "execution_count": 24,
   "metadata": {},
   "outputs": [
    {
     "name": "stdout",
     "output_type": "stream",
     "text": [
      "Train time: 1.011\n",
      "Prediction Time: 0.004\n",
      "44.1905 %\n"
     ]
    }
   ],
   "source": [
    "t1 = time.time()\n",
    "Mnb = MultinomialNB()\n",
    "Mnb.fit(X_train, y_train)\n",
    "t2 = time.time()\n",
    "mnb_fit_time = round(t2 - t1, 3)\n",
    "fit_times.append(mnb_fit_time)\n",
    "print(\"Train time:\", mnb_fit_time)\n",
    "t3 = time.time()\n",
    "y_pred = Mnb.predict(X_test)\n",
    "t4 = time.time()\n",
    "mnb_pred_time = round(t4 - t3, 3)\n",
    "pred_times.append(mnb_pred_time)\n",
    "print(\"Prediction Time:\", mnb_pred_time)\n",
    "mnb_accuracy = round(100 * accuracy_score(y_test, y_pred), 4)\n",
    "accuracies.append(mnb_accuracy)\n",
    "print(mnb_accuracy, \"%\")"
   ]
  },
  {
   "cell_type": "code",
   "execution_count": 25,
   "metadata": {},
   "outputs": [],
   "source": [
    "y_pred_prob = Mnb.predict_proba(X_test)\n",
    "ROC_scores.append(roc_auc_score(y_test, y_pred_prob, multi_class='ovr'))"
   ]
  },
  {
   "cell_type": "code",
   "execution_count": 26,
   "metadata": {},
   "outputs": [],
   "source": [
    "# print(classification_report(y_test, y_pred))"
   ]
  },
  {
   "cell_type": "markdown",
   "metadata": {},
   "source": [
    "##### Explanation\n",
    "- __Gaussian__:\n",
    "    Performs well when we assump that the values are sampled from a Gaussian distribution.\n",
    "- __Bernoulli__:\n",
    "    Takes into account boolean variables so the parameters that we want to predict take up only yes or no values\n",
    "- __Multinomial__:\n",
    "    Used to classify more than 2 different categories.\n",
    "    \n",
    "Here, unexpectedly from me, Gaussian is performing better than multinomial. This was unexpected by me since the fed data is discrete and we want to locate where the ID is knowing the influence of AP's.\n",
    "Of course, taking into account that we have binary discrete values, Bernoulli, is the best performer."
   ]
  },
  {
   "cell_type": "markdown",
   "metadata": {},
   "source": [
    "___\n",
    "___"
   ]
  },
  {
   "cell_type": "markdown",
   "metadata": {},
   "source": [
    "### Decision Tree Algorithm"
   ]
  },
  {
   "cell_type": "markdown",
   "metadata": {},
   "source": [
    "Note: The ideal way of tuning this algorithm is to calculate the are under the ROC curve in orther to modify the min_sample_split and the max_depth so it can perform its best.\n",
    "ROC Curve explanation: https://www.youtube.com/watch?v=4jRBRDbJemM\n",
    "Explanation for criterions:\n",
    "https://towardsdatascience.com/the-simple-math-behind-3-decision-tree-splitting-criterions-85d4de2a75fe"
   ]
  },
  {
   "cell_type": "code",
   "execution_count": 27,
   "metadata": {},
   "outputs": [],
   "source": [
    "from sklearn.tree import DecisionTreeClassifier"
   ]
  },
  {
   "cell_type": "code",
   "execution_count": 28,
   "metadata": {},
   "outputs": [
    {
     "name": "stdout",
     "output_type": "stream",
     "text": [
      "Train time: 0.088\n",
      "Prediction Time: 0.002\n",
      "53.5238 %\n"
     ]
    }
   ],
   "source": [
    "t1 = time.time()\n",
    "dt = DecisionTreeClassifier(criterion='entropy', max_depth=None, min_samples_split=3)\n",
    "dt.fit(X_train, y_train)\n",
    "t2 = time.time()\n",
    "dt_fit_time = round(t2 - t1, 3)\n",
    "fit_times.append(dt_fit_time)\n",
    "print(\"Train time:\", dt_fit_time)\n",
    "t3 = time.time()\n",
    "y_pred = dt.predict(X_test)\n",
    "t4 = time.time()\n",
    "dt_pred_time = round(t4 - t3, 3)\n",
    "pred_times.append(dt_pred_time)\n",
    "print(\"Prediction Time:\", dt_pred_time)\n",
    "dt_accuracy = round(100 * accuracy_score(y_test, y_pred), 4)\n",
    "accuracies.append(dt_accuracy)\n",
    "print(dt_accuracy, \"%\")"
   ]
  },
  {
   "cell_type": "code",
   "execution_count": 29,
   "metadata": {},
   "outputs": [],
   "source": [
    "y_pred_probs = dt.predict_proba(X_test)\n",
    "# y_pred_probs = y_pred_probs[:, 0]"
   ]
  },
  {
   "cell_type": "code",
   "execution_count": 30,
   "metadata": {},
   "outputs": [],
   "source": [
    "cv_scores = cross_val_score(dt, X, y, cv=5) * 100"
   ]
  },
  {
   "cell_type": "markdown",
   "metadata": {},
   "source": [
    "ROC graph summarizes all of the confusion matrices so without having to sort through all the confusion matrices, shows us wich threshold should be the best.\n",
    "\n",
    "AUC makes easy to compare between ROC's"
   ]
  },
  {
   "cell_type": "code",
   "execution_count": 31,
   "metadata": {},
   "outputs": [],
   "source": [
    "# fpr, tpr, thresholds = roc_curve(y_test, y_pred_probs)\n",
    "# ValueError: multiclass format is not supported\n",
    "\n",
    "y_pred_prob = dt.predict_proba(X_test)\n",
    "ROC_scores.append(roc_auc_score(y_test, y_pred_probs, multi_class='ovr'))"
   ]
  },
  {
   "cell_type": "code",
   "execution_count": 32,
   "metadata": {},
   "outputs": [],
   "source": [
    "# print(classification_report(y_test, y_pred))"
   ]
  },
  {
   "cell_type": "markdown",
   "metadata": {},
   "source": [
    "___\n",
    "___"
   ]
  },
  {
   "cell_type": "markdown",
   "metadata": {},
   "source": [
    "### Multilayer Perceptron Algorithm"
   ]
  },
  {
   "cell_type": "code",
   "execution_count": 33,
   "metadata": {},
   "outputs": [],
   "source": [
    "from sklearn.neural_network import MLPClassifier"
   ]
  },
  {
   "cell_type": "code",
   "execution_count": 34,
   "metadata": {},
   "outputs": [],
   "source": [
    "t1 = time.time()\n",
    "mlp = MLPClassifier(activation=\"logistic\", learning_rate_init=0.001, max_iter=10000)"
   ]
  },
  {
   "cell_type": "code",
   "execution_count": 35,
   "metadata": {},
   "outputs": [
    {
     "name": "stdout",
     "output_type": "stream",
     "text": [
      "Train time: 81.715\n"
     ]
    }
   ],
   "source": [
    "mlp.fit(X_train, y_train)\n",
    "t2 = time.time()\n",
    "mlp_fit_time = round(t2 - t1, 3)\n",
    "fit_times.append(mlp_fit_time)\n",
    "print(\"Train time:\", mlp_fit_time)"
   ]
  },
  {
   "cell_type": "code",
   "execution_count": 36,
   "metadata": {},
   "outputs": [
    {
     "name": "stdout",
     "output_type": "stream",
     "text": [
      "Prediction Time: 0.005\n",
      "62.8571 %\n"
     ]
    }
   ],
   "source": [
    "t3 = time.time()\n",
    "y_pred = mlp.predict(X_test)\n",
    "t4 = time.time()\n",
    "mlp_pred_time = round(t4 - t3, 3)\n",
    "pred_times.append(mlp_pred_time)\n",
    "print(\"Prediction Time:\", mlp_pred_time)\n",
    "mlp_accuracy = round(100 * accuracy_score(y_test, y_pred), 4)\n",
    "accuracies.append(mlp_accuracy)\n",
    "print(mlp_accuracy, \"%\")"
   ]
  },
  {
   "cell_type": "code",
   "execution_count": 37,
   "metadata": {},
   "outputs": [],
   "source": [
    "y_pred_prob = mlp.predict_proba(X_test)\n",
    "ROC_scores.append(roc_auc_score(y_test, y_pred_prob, multi_class='ovr'))"
   ]
  },
  {
   "cell_type": "code",
   "execution_count": 38,
   "metadata": {},
   "outputs": [],
   "source": [
    "# print(classification_report(y_test, y_pred))"
   ]
  },
  {
   "cell_type": "markdown",
   "metadata": {},
   "source": [
    "___\n",
    "___\n",
    "___"
   ]
  },
  {
   "cell_type": "markdown",
   "metadata": {},
   "source": [
    "### Conclusions"
   ]
  },
  {
   "cell_type": "code",
   "execution_count": 39,
   "metadata": {},
   "outputs": [],
   "source": [
    "models = [\"K-Nearest Neighbors\", \"Naive Bayes-Gaussian\", \"Naive Bayes-Bernoulli\", \"Naive Bayes-Multinomial\", \"Decision Tree\", \"Multilayer Perceptron\"]\n",
    "x = np.arange(len(models))"
   ]
  },
  {
   "cell_type": "markdown",
   "metadata": {},
   "source": [
    "#### Accuracies"
   ]
  },
  {
   "cell_type": "code",
   "execution_count": 40,
   "metadata": {},
   "outputs": [
    {
     "data": {
      "image/png": "[encoded data removed]",
      "text/plain": [
       "<Figure size 432x288 with 1 Axes>"
      ]
     },
     "metadata": {
      "needs_background": "light"
     },
     "output_type": "display_data"
    }
   ],
   "source": [
    "plt.barh(x, accuracies, align=\"center\")\n",
    "plt.yticks(x, models)\n",
    "plt.xlabel(\"Percentage\")\n",
    "plt.ylabel = (\"Model\")\n",
    "plt.title(\"Accuracies of each model\")\n",
    "plt.show()"
   ]
  },
  {
   "cell_type": "markdown",
   "metadata": {},
   "source": [
    "#### Fit and Prediction Times"
   ]
  },
  {
   "cell_type": "code",
   "execution_count": 41,
   "metadata": {},
   "outputs": [],
   "source": [
    "fit_times_NOmlp = fit_times[:-1]\n",
    "pred_times_NOmlp = pred_times[:-1]\n",
    "models_NOmlp = models[:-1]\n",
    "x_NOmlp = np.arange(len(models)-1)"
   ]
  },
  {
   "cell_type": "code",
   "execution_count": 42,
   "metadata": {},
   "outputs": [
    {
     "data": {
      "image/png": "[encoded data removed]",
      "text/plain": [
       "<Figure size 432x288 with 1 Axes>"
      ]
     },
     "metadata": {
      "needs_background": "light"
     },
     "output_type": "display_data"
    }
   ],
   "source": [
    "width = 0.5\n",
    "fig, ax = plt.subplots()\n",
    "\n",
    "fit_times_bar = ax.barh(x_NOmlp, fit_times_NOmlp, width)\n",
    "pred_times_bar = ax.barh(x_NOmlp + width, pred_times_NOmlp, width, color=\"orange\")\n",
    "\n",
    "plt.ylabel = (\"Model\")\n",
    "plt.xlabel = (\"Time (ms)\")\n",
    "plt.title(\"Times of each model\")\n",
    "plt.yticks(x_NOmlp + width, models_NOmlp)\n",
    "\n",
    "plt.show()"
   ]
  },
  {
   "cell_type": "code",
   "execution_count": 43,
   "metadata": {},
   "outputs": [
    {
     "name": "stdout",
     "output_type": "stream",
     "text": [
      "The multilayer perceptron is the one who performs best in prediction but the worst by far in fitting as we can see: \n",
      " -> Fitting time 81.715ms\n",
      " -> Prediction Time 0.005ms\n"
     ]
    }
   ],
   "source": [
    "print(\"The multilayer perceptron is the one who performs best in prediction but the worst by far in fitting as we can see: \\n -> Fitting time {}ms\\n -> Prediction Time {}ms\".format(mlp_fit_time, mlp_pred_time))"
   ]
  },
  {
   "cell_type": "markdown",
   "metadata": {},
   "source": [
    "#### Cross Validation Scores"
   ]
  },
  {
   "cell_type": "code",
   "execution_count": 44,
   "metadata": {},
   "outputs": [],
   "source": [
    "cv_scores = []"
   ]
  },
  {
   "cell_type": "code",
   "execution_count": 45,
   "metadata": {},
   "outputs": [],
   "source": [
    "cv_scores.append((cross_val_score(knn, X, y, cv=5) * 100).mean())\n",
    "cv_scores.append((cross_val_score(Mnb, X, y, cv=5) * 100).mean())\n",
    "cv_scores.append((cross_val_score(dt, X, y, cv=5) * 100).mean())\n",
    "cv_scores.append((cross_val_score(mlp, X, y, cv=5) * 100).mean())"
   ]
  },
  {
   "cell_type": "code",
   "execution_count": 46,
   "metadata": {},
   "outputs": [],
   "source": [
    "models = [\"K-Nearest Neighbors\", \"Naive Bayes-Multinomial\", \"Decision Tree\", \"Multilayer Perceptron\"]\n",
    "x = np.arange(len(models))"
   ]
  },
  {
   "cell_type": "code",
   "execution_count": 52,
   "metadata": {},
   "outputs": [
    {
     "data": {
      "image/png": "[encoded data removed]",
      "text/plain": [
       "<Figure size 432x288 with 1 Axes>"
      ]
     },
     "metadata": {
      "needs_background": "light"
     },
     "output_type": "display_data"
    }
   ],
   "source": [
    "plt.barh(x, cv_scores, align=\"center\", color=\"orange\")\n",
    "plt.yticks(x, models)\n",
    "plt.ylabel = (\"Model\")\n",
    "plt.title(\"Cross Validation Mean Mean of each model\")\n",
    "plt.show()"
   ]
  },
  {
   "cell_type": "markdown",
   "metadata": {},
   "source": [
    "#### ROC Scores"
   ]
  },
  {
   "cell_type": "code",
   "execution_count": 53,
   "metadata": {},
   "outputs": [
    {
     "data": {
      "image/png": "[encoded data removed]",
      "text/plain": [
       "<Figure size 432x288 with 1 Axes>"
      ]
     },
     "metadata": {
      "needs_background": "light"
     },
     "output_type": "display_data"
    }
   ],
   "source": [
    "plt.barh(x, ROC_scores, align=\"center\")\n",
    "plt.yticks(x, models)\n",
    "plt.ylabel = (\"Model\")\n",
    "plt.title(\"ROC scores\")\n",
    "plt.grid()\n",
    "plt.show()"
   ]
  }
 ],
 "metadata": {
  "kernelspec": {
   "display_name": "Python 3",
   "language": "python",
   "name": "python3"
  },
  "language_info": {
   "codemirror_mode": {
    "name": "ipython",
    "version": 3
   },
   "file_extension": ".py",
   "mimetype": "text/x-python",
   "name": "python",
   "nbconvert_exporter": "python",
   "pygments_lexer": "ipython3",
   "version": "3.7.7"
  }
 },
 "nbformat": 4,
 "nbformat_minor": 4
}
